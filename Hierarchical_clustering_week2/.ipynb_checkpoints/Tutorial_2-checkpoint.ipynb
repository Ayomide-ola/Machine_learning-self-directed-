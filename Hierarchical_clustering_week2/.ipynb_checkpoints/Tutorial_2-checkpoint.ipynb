{
 "cells": [
  {
   "cell_type": "markdown",
   "id": "7940d7d3",
   "metadata": {},
   "source": [
    "# Hierarchical Clustering"
   ]
  },
  {
   "cell_type": "markdown",
   "id": "09880973",
   "metadata": {},
   "source": [
    "The following Python code utilizes agglomerative clustering to cluster the customers as Careful, Standard, Target, Careless, and Sensible using MallCustomers data available on Moodle. Customers’ dendrogram is plotted against the Euclidean distance. In addition, the clusters are plotted in a scatter plot to show five different customer groups."
   ]
  },
  {
   "cell_type": "code",
   "execution_count": 1,
   "id": "b63ec726",
   "metadata": {},
   "outputs": [
    {
     "name": "stdout",
     "output_type": "stream",
     "text": [
      "Requirement already satisfied: plotly in c:\\users\\timay\\anaconda3\\lib\\site-packages (5.9.0)\n",
      "Requirement already satisfied: tenacity>=6.2.0 in c:\\users\\timay\\anaconda3\\lib\\site-packages (from plotly) (8.2.2)\n"
     ]
    }
   ],
   "source": [
    "!pip install plotly\n",
    "# install plotly package before the execution of the next cell"
   ]
  },
  {
   "cell_type": "code",
   "execution_count": 2,
   "id": "b6f762a3",
   "metadata": {},
   "outputs": [],
   "source": [
    "import warnings\n",
    "warnings.filterwarnings('ignore') # We can suppress the warnings"
   ]
  },
  {
   "cell_type": "code",
   "execution_count": 4,
   "id": "ba8a2a36",
   "metadata": {},
   "outputs": [
    {
     "data": {
      "application/vnd.plotly.v1+json": {
       "config": {
        "plotlyServerURL": "https://plot.ly"
       },
       "data": [
        {
         "hoverinfo": "text",
         "marker": {
          "color": "rgb(61,153,112)"
         },
         "mode": "lines",
         "type": "scatter",
         "x": [
          5,
          5,
          15,
          15
         ],
         "xaxis": "x",
         "y": [
          0,
          0.7704487373748995,
          0.7704487373748995,
          0
         ],
         "yaxis": "y"
        },
        {
         "hoverinfo": "text",
         "marker": {
          "color": "rgb(255,65,54)"
         },
         "mode": "lines",
         "type": "scatter",
         "x": [
          35,
          35,
          45,
          45
         ],
         "xaxis": "x",
         "y": [
          0,
          0.7575301010727543,
          0.7575301010727543,
          0
         ],
         "yaxis": "y"
        },
        {
         "hoverinfo": "text",
         "marker": {
          "color": "rgb(0,116,217)"
         },
         "mode": "lines",
         "type": "scatter",
         "x": [
          25,
          25,
          40,
          40
         ],
         "xaxis": "x",
         "y": [
          0,
          1.1468828849099355,
          1.1468828849099355,
          0.7575301010727543
         ],
         "yaxis": "y"
        },
        {
         "hoverinfo": "text",
         "marker": {
          "color": "rgb(0,116,217)"
         },
         "mode": "lines",
         "type": "scatter",
         "x": [
          10,
          10,
          32.5,
          32.5
         ],
         "xaxis": "x",
         "y": [
          0.7704487373748995,
          1.4172814444705375,
          1.4172814444705375,
          1.1468828849099355
         ],
         "yaxis": "y"
        }
       ],
       "layout": {
        "autosize": false,
        "height": 500,
        "hovermode": "closest",
        "showlegend": false,
        "template": {
         "data": {
          "bar": [
           {
            "error_x": {
             "color": "#2a3f5f"
            },
            "error_y": {
             "color": "#2a3f5f"
            },
            "marker": {
             "line": {
              "color": "#E5ECF6",
              "width": 0.5
             },
             "pattern": {
              "fillmode": "overlay",
              "size": 10,
              "solidity": 0.2
             }
            },
            "type": "bar"
           }
          ],
          "barpolar": [
           {
            "marker": {
             "line": {
              "color": "#E5ECF6",
              "width": 0.5
             },
             "pattern": {
              "fillmode": "overlay",
              "size": 10,
              "solidity": 0.2
             }
            },
            "type": "barpolar"
           }
          ],
          "carpet": [
           {
            "aaxis": {
             "endlinecolor": "#2a3f5f",
             "gridcolor": "white",
             "linecolor": "white",
             "minorgridcolor": "white",
             "startlinecolor": "#2a3f5f"
            },
            "baxis": {
             "endlinecolor": "#2a3f5f",
             "gridcolor": "white",
             "linecolor": "white",
             "minorgridcolor": "white",
             "startlinecolor": "#2a3f5f"
            },
            "type": "carpet"
           }
          ],
          "choropleth": [
           {
            "colorbar": {
             "outlinewidth": 0,
             "ticks": ""
            },
            "type": "choropleth"
           }
          ],
          "contour": [
           {
            "colorbar": {
             "outlinewidth": 0,
             "ticks": ""
            },
            "colorscale": [
             [
              0,
              "#0d0887"
             ],
             [
              0.1111111111111111,
              "#46039f"
             ],
             [
              0.2222222222222222,
              "#7201a8"
             ],
             [
              0.3333333333333333,
              "#9c179e"
             ],
             [
              0.4444444444444444,
              "#bd3786"
             ],
             [
              0.5555555555555556,
              "#d8576b"
             ],
             [
              0.6666666666666666,
              "#ed7953"
             ],
             [
              0.7777777777777778,
              "#fb9f3a"
             ],
             [
              0.8888888888888888,
              "#fdca26"
             ],
             [
              1,
              "#f0f921"
             ]
            ],
            "type": "contour"
           }
          ],
          "contourcarpet": [
           {
            "colorbar": {
             "outlinewidth": 0,
             "ticks": ""
            },
            "type": "contourcarpet"
           }
          ],
          "heatmap": [
           {
            "colorbar": {
             "outlinewidth": 0,
             "ticks": ""
            },
            "colorscale": [
             [
              0,
              "#0d0887"
             ],
             [
              0.1111111111111111,
              "#46039f"
             ],
             [
              0.2222222222222222,
              "#7201a8"
             ],
             [
              0.3333333333333333,
              "#9c179e"
             ],
             [
              0.4444444444444444,
              "#bd3786"
             ],
             [
              0.5555555555555556,
              "#d8576b"
             ],
             [
              0.6666666666666666,
              "#ed7953"
             ],
             [
              0.7777777777777778,
              "#fb9f3a"
             ],
             [
              0.8888888888888888,
              "#fdca26"
             ],
             [
              1,
              "#f0f921"
             ]
            ],
            "type": "heatmap"
           }
          ],
          "heatmapgl": [
           {
            "colorbar": {
             "outlinewidth": 0,
             "ticks": ""
            },
            "colorscale": [
             [
              0,
              "#0d0887"
             ],
             [
              0.1111111111111111,
              "#46039f"
             ],
             [
              0.2222222222222222,
              "#7201a8"
             ],
             [
              0.3333333333333333,
              "#9c179e"
             ],
             [
              0.4444444444444444,
              "#bd3786"
             ],
             [
              0.5555555555555556,
              "#d8576b"
             ],
             [
              0.6666666666666666,
              "#ed7953"
             ],
             [
              0.7777777777777778,
              "#fb9f3a"
             ],
             [
              0.8888888888888888,
              "#fdca26"
             ],
             [
              1,
              "#f0f921"
             ]
            ],
            "type": "heatmapgl"
           }
          ],
          "histogram": [
           {
            "marker": {
             "pattern": {
              "fillmode": "overlay",
              "size": 10,
              "solidity": 0.2
             }
            },
            "type": "histogram"
           }
          ],
          "histogram2d": [
           {
            "colorbar": {
             "outlinewidth": 0,
             "ticks": ""
            },
            "colorscale": [
             [
              0,
              "#0d0887"
             ],
             [
              0.1111111111111111,
              "#46039f"
             ],
             [
              0.2222222222222222,
              "#7201a8"
             ],
             [
              0.3333333333333333,
              "#9c179e"
             ],
             [
              0.4444444444444444,
              "#bd3786"
             ],
             [
              0.5555555555555556,
              "#d8576b"
             ],
             [
              0.6666666666666666,
              "#ed7953"
             ],
             [
              0.7777777777777778,
              "#fb9f3a"
             ],
             [
              0.8888888888888888,
              "#fdca26"
             ],
             [
              1,
              "#f0f921"
             ]
            ],
            "type": "histogram2d"
           }
          ],
          "histogram2dcontour": [
           {
            "colorbar": {
             "outlinewidth": 0,
             "ticks": ""
            },
            "colorscale": [
             [
              0,
              "#0d0887"
             ],
             [
              0.1111111111111111,
              "#46039f"
             ],
             [
              0.2222222222222222,
              "#7201a8"
             ],
             [
              0.3333333333333333,
              "#9c179e"
             ],
             [
              0.4444444444444444,
              "#bd3786"
             ],
             [
              0.5555555555555556,
              "#d8576b"
             ],
             [
              0.6666666666666666,
              "#ed7953"
             ],
             [
              0.7777777777777778,
              "#fb9f3a"
             ],
             [
              0.8888888888888888,
              "#fdca26"
             ],
             [
              1,
              "#f0f921"
             ]
            ],
            "type": "histogram2dcontour"
           }
          ],
          "mesh3d": [
           {
            "colorbar": {
             "outlinewidth": 0,
             "ticks": ""
            },
            "type": "mesh3d"
           }
          ],
          "parcoords": [
           {
            "line": {
             "colorbar": {
              "outlinewidth": 0,
              "ticks": ""
             }
            },
            "type": "parcoords"
           }
          ],
          "pie": [
           {
            "automargin": true,
            "type": "pie"
           }
          ],
          "scatter": [
           {
            "fillpattern": {
             "fillmode": "overlay",
             "size": 10,
             "solidity": 0.2
            },
            "type": "scatter"
           }
          ],
          "scatter3d": [
           {
            "line": {
             "colorbar": {
              "outlinewidth": 0,
              "ticks": ""
             }
            },
            "marker": {
             "colorbar": {
              "outlinewidth": 0,
              "ticks": ""
             }
            },
            "type": "scatter3d"
           }
          ],
          "scattercarpet": [
           {
            "marker": {
             "colorbar": {
              "outlinewidth": 0,
              "ticks": ""
             }
            },
            "type": "scattercarpet"
           }
          ],
          "scattergeo": [
           {
            "marker": {
             "colorbar": {
              "outlinewidth": 0,
              "ticks": ""
             }
            },
            "type": "scattergeo"
           }
          ],
          "scattergl": [
           {
            "marker": {
             "colorbar": {
              "outlinewidth": 0,
              "ticks": ""
             }
            },
            "type": "scattergl"
           }
          ],
          "scattermapbox": [
           {
            "marker": {
             "colorbar": {
              "outlinewidth": 0,
              "ticks": ""
             }
            },
            "type": "scattermapbox"
           }
          ],
          "scatterpolar": [
           {
            "marker": {
             "colorbar": {
              "outlinewidth": 0,
              "ticks": ""
             }
            },
            "type": "scatterpolar"
           }
          ],
          "scatterpolargl": [
           {
            "marker": {
             "colorbar": {
              "outlinewidth": 0,
              "ticks": ""
             }
            },
            "type": "scatterpolargl"
           }
          ],
          "scatterternary": [
           {
            "marker": {
             "colorbar": {
              "outlinewidth": 0,
              "ticks": ""
             }
            },
            "type": "scatterternary"
           }
          ],
          "surface": [
           {
            "colorbar": {
             "outlinewidth": 0,
             "ticks": ""
            },
            "colorscale": [
             [
              0,
              "#0d0887"
             ],
             [
              0.1111111111111111,
              "#46039f"
             ],
             [
              0.2222222222222222,
              "#7201a8"
             ],
             [
              0.3333333333333333,
              "#9c179e"
             ],
             [
              0.4444444444444444,
              "#bd3786"
             ],
             [
              0.5555555555555556,
              "#d8576b"
             ],
             [
              0.6666666666666666,
              "#ed7953"
             ],
             [
              0.7777777777777778,
              "#fb9f3a"
             ],
             [
              0.8888888888888888,
              "#fdca26"
             ],
             [
              1,
              "#f0f921"
             ]
            ],
            "type": "surface"
           }
          ],
          "table": [
           {
            "cells": {
             "fill": {
              "color": "#EBF0F8"
             },
             "line": {
              "color": "white"
             }
            },
            "header": {
             "fill": {
              "color": "#C8D4E3"
             },
             "line": {
              "color": "white"
             }
            },
            "type": "table"
           }
          ]
         },
         "layout": {
          "annotationdefaults": {
           "arrowcolor": "#2a3f5f",
           "arrowhead": 0,
           "arrowwidth": 1
          },
          "autotypenumbers": "strict",
          "coloraxis": {
           "colorbar": {
            "outlinewidth": 0,
            "ticks": ""
           }
          },
          "colorscale": {
           "diverging": [
            [
             0,
             "#8e0152"
            ],
            [
             0.1,
             "#c51b7d"
            ],
            [
             0.2,
             "#de77ae"
            ],
            [
             0.3,
             "#f1b6da"
            ],
            [
             0.4,
             "#fde0ef"
            ],
            [
             0.5,
             "#f7f7f7"
            ],
            [
             0.6,
             "#e6f5d0"
            ],
            [
             0.7,
             "#b8e186"
            ],
            [
             0.8,
             "#7fbc41"
            ],
            [
             0.9,
             "#4d9221"
            ],
            [
             1,
             "#276419"
            ]
           ],
           "sequential": [
            [
             0,
             "#0d0887"
            ],
            [
             0.1111111111111111,
             "#46039f"
            ],
            [
             0.2222222222222222,
             "#7201a8"
            ],
            [
             0.3333333333333333,
             "#9c179e"
            ],
            [
             0.4444444444444444,
             "#bd3786"
            ],
            [
             0.5555555555555556,
             "#d8576b"
            ],
            [
             0.6666666666666666,
             "#ed7953"
            ],
            [
             0.7777777777777778,
             "#fb9f3a"
            ],
            [
             0.8888888888888888,
             "#fdca26"
            ],
            [
             1,
             "#f0f921"
            ]
           ],
           "sequentialminus": [
            [
             0,
             "#0d0887"
            ],
            [
             0.1111111111111111,
             "#46039f"
            ],
            [
             0.2222222222222222,
             "#7201a8"
            ],
            [
             0.3333333333333333,
             "#9c179e"
            ],
            [
             0.4444444444444444,
             "#bd3786"
            ],
            [
             0.5555555555555556,
             "#d8576b"
            ],
            [
             0.6666666666666666,
             "#ed7953"
            ],
            [
             0.7777777777777778,
             "#fb9f3a"
            ],
            [
             0.8888888888888888,
             "#fdca26"
            ],
            [
             1,
             "#f0f921"
            ]
           ]
          },
          "colorway": [
           "#636efa",
           "#EF553B",
           "#00cc96",
           "#ab63fa",
           "#FFA15A",
           "#19d3f3",
           "#FF6692",
           "#B6E880",
           "#FF97FF",
           "#FECB52"
          ],
          "font": {
           "color": "#2a3f5f"
          },
          "geo": {
           "bgcolor": "white",
           "lakecolor": "white",
           "landcolor": "#E5ECF6",
           "showlakes": true,
           "showland": true,
           "subunitcolor": "white"
          },
          "hoverlabel": {
           "align": "left"
          },
          "hovermode": "closest",
          "mapbox": {
           "style": "light"
          },
          "paper_bgcolor": "white",
          "plot_bgcolor": "#E5ECF6",
          "polar": {
           "angularaxis": {
            "gridcolor": "white",
            "linecolor": "white",
            "ticks": ""
           },
           "bgcolor": "#E5ECF6",
           "radialaxis": {
            "gridcolor": "white",
            "linecolor": "white",
            "ticks": ""
           }
          },
          "scene": {
           "xaxis": {
            "backgroundcolor": "#E5ECF6",
            "gridcolor": "white",
            "gridwidth": 2,
            "linecolor": "white",
            "showbackground": true,
            "ticks": "",
            "zerolinecolor": "white"
           },
           "yaxis": {
            "backgroundcolor": "#E5ECF6",
            "gridcolor": "white",
            "gridwidth": 2,
            "linecolor": "white",
            "showbackground": true,
            "ticks": "",
            "zerolinecolor": "white"
           },
           "zaxis": {
            "backgroundcolor": "#E5ECF6",
            "gridcolor": "white",
            "gridwidth": 2,
            "linecolor": "white",
            "showbackground": true,
            "ticks": "",
            "zerolinecolor": "white"
           }
          },
          "shapedefaults": {
           "line": {
            "color": "#2a3f5f"
           }
          },
          "ternary": {
           "aaxis": {
            "gridcolor": "white",
            "linecolor": "white",
            "ticks": ""
           },
           "baxis": {
            "gridcolor": "white",
            "linecolor": "white",
            "ticks": ""
           },
           "bgcolor": "#E5ECF6",
           "caxis": {
            "gridcolor": "white",
            "linecolor": "white",
            "ticks": ""
           }
          },
          "title": {
           "x": 0.05
          },
          "xaxis": {
           "automargin": true,
           "gridcolor": "white",
           "linecolor": "white",
           "ticks": "",
           "title": {
            "standoff": 15
           },
           "zerolinecolor": "white",
           "zerolinewidth": 2
          },
          "yaxis": {
           "automargin": true,
           "gridcolor": "white",
           "linecolor": "white",
           "ticks": "",
           "title": {
            "standoff": 15
           },
           "zerolinecolor": "white",
           "zerolinewidth": 2
          }
         }
        },
        "width": 600,
        "xaxis": {
         "mirror": "allticks",
         "rangemode": "tozero",
         "showgrid": false,
         "showline": true,
         "showticklabels": true,
         "tickmode": "array",
         "ticks": "outside",
         "ticktext": [
          "Jack",
          "Chelsea",
          "Mark",
          "Oxana",
          "John"
         ],
         "tickvals": [
          5,
          15,
          25,
          35,
          45
         ],
         "type": "linear",
         "zeroline": false
        },
        "yaxis": {
         "mirror": "allticks",
         "rangemode": "tozero",
         "showgrid": false,
         "showline": true,
         "showticklabels": true,
         "ticks": "outside",
         "type": "linear",
         "zeroline": false
        }
       }
      },
      "text/html": [
       "<div>                            <div id=\"52b7ecae-2b06-4839-b1ca-66bd4ebbc06b\" class=\"plotly-graph-div\" style=\"height:500px; width:600px;\"></div>            <script type=\"text/javascript\">                require([\"plotly\"], function(Plotly) {                    window.PLOTLYENV=window.PLOTLYENV || {};                                    if (document.getElementById(\"52b7ecae-2b06-4839-b1ca-66bd4ebbc06b\")) {                    Plotly.newPlot(                        \"52b7ecae-2b06-4839-b1ca-66bd4ebbc06b\",                        [{\"hoverinfo\":\"text\",\"marker\":{\"color\":\"rgb(61,153,112)\"},\"mode\":\"lines\",\"x\":[5.0,5.0,15.0,15.0],\"xaxis\":\"x\",\"y\":[0.0,0.7704487373748995,0.7704487373748995,0.0],\"yaxis\":\"y\",\"type\":\"scatter\"},{\"hoverinfo\":\"text\",\"marker\":{\"color\":\"rgb(255,65,54)\"},\"mode\":\"lines\",\"x\":[35.0,35.0,45.0,45.0],\"xaxis\":\"x\",\"y\":[0.0,0.7575301010727543,0.7575301010727543,0.0],\"yaxis\":\"y\",\"type\":\"scatter\"},{\"hoverinfo\":\"text\",\"marker\":{\"color\":\"rgb(0,116,217)\"},\"mode\":\"lines\",\"x\":[25.0,25.0,40.0,40.0],\"xaxis\":\"x\",\"y\":[0.0,1.1468828849099355,1.1468828849099355,0.7575301010727543],\"yaxis\":\"y\",\"type\":\"scatter\"},{\"hoverinfo\":\"text\",\"marker\":{\"color\":\"rgb(0,116,217)\"},\"mode\":\"lines\",\"x\":[10.0,10.0,32.5,32.5],\"xaxis\":\"x\",\"y\":[0.7704487373748995,1.4172814444705375,1.4172814444705375,1.1468828849099355],\"yaxis\":\"y\",\"type\":\"scatter\"}],                        {\"autosize\":false,\"height\":500,\"hovermode\":\"closest\",\"showlegend\":false,\"width\":600,\"xaxis\":{\"mirror\":\"allticks\",\"rangemode\":\"tozero\",\"showgrid\":false,\"showline\":true,\"showticklabels\":true,\"tickmode\":\"array\",\"ticks\":\"outside\",\"ticktext\":[\"Jack\",\"Chelsea\",\"Mark\",\"Oxana\",\"John\"],\"tickvals\":[5.0,15.0,25.0,35.0,45.0],\"type\":\"linear\",\"zeroline\":false},\"yaxis\":{\"mirror\":\"allticks\",\"rangemode\":\"tozero\",\"showgrid\":false,\"showline\":true,\"showticklabels\":true,\"ticks\":\"outside\",\"type\":\"linear\",\"zeroline\":false},\"template\":{\"data\":{\"histogram2dcontour\":[{\"type\":\"histogram2dcontour\",\"colorbar\":{\"outlinewidth\":0,\"ticks\":\"\"},\"colorscale\":[[0.0,\"#0d0887\"],[0.1111111111111111,\"#46039f\"],[0.2222222222222222,\"#7201a8\"],[0.3333333333333333,\"#9c179e\"],[0.4444444444444444,\"#bd3786\"],[0.5555555555555556,\"#d8576b\"],[0.6666666666666666,\"#ed7953\"],[0.7777777777777778,\"#fb9f3a\"],[0.8888888888888888,\"#fdca26\"],[1.0,\"#f0f921\"]]}],\"choropleth\":[{\"type\":\"choropleth\",\"colorbar\":{\"outlinewidth\":0,\"ticks\":\"\"}}],\"histogram2d\":[{\"type\":\"histogram2d\",\"colorbar\":{\"outlinewidth\":0,\"ticks\":\"\"},\"colorscale\":[[0.0,\"#0d0887\"],[0.1111111111111111,\"#46039f\"],[0.2222222222222222,\"#7201a8\"],[0.3333333333333333,\"#9c179e\"],[0.4444444444444444,\"#bd3786\"],[0.5555555555555556,\"#d8576b\"],[0.6666666666666666,\"#ed7953\"],[0.7777777777777778,\"#fb9f3a\"],[0.8888888888888888,\"#fdca26\"],[1.0,\"#f0f921\"]]}],\"heatmap\":[{\"type\":\"heatmap\",\"colorbar\":{\"outlinewidth\":0,\"ticks\":\"\"},\"colorscale\":[[0.0,\"#0d0887\"],[0.1111111111111111,\"#46039f\"],[0.2222222222222222,\"#7201a8\"],[0.3333333333333333,\"#9c179e\"],[0.4444444444444444,\"#bd3786\"],[0.5555555555555556,\"#d8576b\"],[0.6666666666666666,\"#ed7953\"],[0.7777777777777778,\"#fb9f3a\"],[0.8888888888888888,\"#fdca26\"],[1.0,\"#f0f921\"]]}],\"heatmapgl\":[{\"type\":\"heatmapgl\",\"colorbar\":{\"outlinewidth\":0,\"ticks\":\"\"},\"colorscale\":[[0.0,\"#0d0887\"],[0.1111111111111111,\"#46039f\"],[0.2222222222222222,\"#7201a8\"],[0.3333333333333333,\"#9c179e\"],[0.4444444444444444,\"#bd3786\"],[0.5555555555555556,\"#d8576b\"],[0.6666666666666666,\"#ed7953\"],[0.7777777777777778,\"#fb9f3a\"],[0.8888888888888888,\"#fdca26\"],[1.0,\"#f0f921\"]]}],\"contourcarpet\":[{\"type\":\"contourcarpet\",\"colorbar\":{\"outlinewidth\":0,\"ticks\":\"\"}}],\"contour\":[{\"type\":\"contour\",\"colorbar\":{\"outlinewidth\":0,\"ticks\":\"\"},\"colorscale\":[[0.0,\"#0d0887\"],[0.1111111111111111,\"#46039f\"],[0.2222222222222222,\"#7201a8\"],[0.3333333333333333,\"#9c179e\"],[0.4444444444444444,\"#bd3786\"],[0.5555555555555556,\"#d8576b\"],[0.6666666666666666,\"#ed7953\"],[0.7777777777777778,\"#fb9f3a\"],[0.8888888888888888,\"#fdca26\"],[1.0,\"#f0f921\"]]}],\"surface\":[{\"type\":\"surface\",\"colorbar\":{\"outlinewidth\":0,\"ticks\":\"\"},\"colorscale\":[[0.0,\"#0d0887\"],[0.1111111111111111,\"#46039f\"],[0.2222222222222222,\"#7201a8\"],[0.3333333333333333,\"#9c179e\"],[0.4444444444444444,\"#bd3786\"],[0.5555555555555556,\"#d8576b\"],[0.6666666666666666,\"#ed7953\"],[0.7777777777777778,\"#fb9f3a\"],[0.8888888888888888,\"#fdca26\"],[1.0,\"#f0f921\"]]}],\"mesh3d\":[{\"type\":\"mesh3d\",\"colorbar\":{\"outlinewidth\":0,\"ticks\":\"\"}}],\"scatter\":[{\"fillpattern\":{\"fillmode\":\"overlay\",\"size\":10,\"solidity\":0.2},\"type\":\"scatter\"}],\"parcoords\":[{\"type\":\"parcoords\",\"line\":{\"colorbar\":{\"outlinewidth\":0,\"ticks\":\"\"}}}],\"scatterpolargl\":[{\"type\":\"scatterpolargl\",\"marker\":{\"colorbar\":{\"outlinewidth\":0,\"ticks\":\"\"}}}],\"bar\":[{\"error_x\":{\"color\":\"#2a3f5f\"},\"error_y\":{\"color\":\"#2a3f5f\"},\"marker\":{\"line\":{\"color\":\"#E5ECF6\",\"width\":0.5},\"pattern\":{\"fillmode\":\"overlay\",\"size\":10,\"solidity\":0.2}},\"type\":\"bar\"}],\"scattergeo\":[{\"type\":\"scattergeo\",\"marker\":{\"colorbar\":{\"outlinewidth\":0,\"ticks\":\"\"}}}],\"scatterpolar\":[{\"type\":\"scatterpolar\",\"marker\":{\"colorbar\":{\"outlinewidth\":0,\"ticks\":\"\"}}}],\"histogram\":[{\"marker\":{\"pattern\":{\"fillmode\":\"overlay\",\"size\":10,\"solidity\":0.2}},\"type\":\"histogram\"}],\"scattergl\":[{\"type\":\"scattergl\",\"marker\":{\"colorbar\":{\"outlinewidth\":0,\"ticks\":\"\"}}}],\"scatter3d\":[{\"type\":\"scatter3d\",\"line\":{\"colorbar\":{\"outlinewidth\":0,\"ticks\":\"\"}},\"marker\":{\"colorbar\":{\"outlinewidth\":0,\"ticks\":\"\"}}}],\"scattermapbox\":[{\"type\":\"scattermapbox\",\"marker\":{\"colorbar\":{\"outlinewidth\":0,\"ticks\":\"\"}}}],\"scatterternary\":[{\"type\":\"scatterternary\",\"marker\":{\"colorbar\":{\"outlinewidth\":0,\"ticks\":\"\"}}}],\"scattercarpet\":[{\"type\":\"scattercarpet\",\"marker\":{\"colorbar\":{\"outlinewidth\":0,\"ticks\":\"\"}}}],\"carpet\":[{\"aaxis\":{\"endlinecolor\":\"#2a3f5f\",\"gridcolor\":\"white\",\"linecolor\":\"white\",\"minorgridcolor\":\"white\",\"startlinecolor\":\"#2a3f5f\"},\"baxis\":{\"endlinecolor\":\"#2a3f5f\",\"gridcolor\":\"white\",\"linecolor\":\"white\",\"minorgridcolor\":\"white\",\"startlinecolor\":\"#2a3f5f\"},\"type\":\"carpet\"}],\"table\":[{\"cells\":{\"fill\":{\"color\":\"#EBF0F8\"},\"line\":{\"color\":\"white\"}},\"header\":{\"fill\":{\"color\":\"#C8D4E3\"},\"line\":{\"color\":\"white\"}},\"type\":\"table\"}],\"barpolar\":[{\"marker\":{\"line\":{\"color\":\"#E5ECF6\",\"width\":0.5},\"pattern\":{\"fillmode\":\"overlay\",\"size\":10,\"solidity\":0.2}},\"type\":\"barpolar\"}],\"pie\":[{\"automargin\":true,\"type\":\"pie\"}]},\"layout\":{\"autotypenumbers\":\"strict\",\"colorway\":[\"#636efa\",\"#EF553B\",\"#00cc96\",\"#ab63fa\",\"#FFA15A\",\"#19d3f3\",\"#FF6692\",\"#B6E880\",\"#FF97FF\",\"#FECB52\"],\"font\":{\"color\":\"#2a3f5f\"},\"hovermode\":\"closest\",\"hoverlabel\":{\"align\":\"left\"},\"paper_bgcolor\":\"white\",\"plot_bgcolor\":\"#E5ECF6\",\"polar\":{\"bgcolor\":\"#E5ECF6\",\"angularaxis\":{\"gridcolor\":\"white\",\"linecolor\":\"white\",\"ticks\":\"\"},\"radialaxis\":{\"gridcolor\":\"white\",\"linecolor\":\"white\",\"ticks\":\"\"}},\"ternary\":{\"bgcolor\":\"#E5ECF6\",\"aaxis\":{\"gridcolor\":\"white\",\"linecolor\":\"white\",\"ticks\":\"\"},\"baxis\":{\"gridcolor\":\"white\",\"linecolor\":\"white\",\"ticks\":\"\"},\"caxis\":{\"gridcolor\":\"white\",\"linecolor\":\"white\",\"ticks\":\"\"}},\"coloraxis\":{\"colorbar\":{\"outlinewidth\":0,\"ticks\":\"\"}},\"colorscale\":{\"sequential\":[[0.0,\"#0d0887\"],[0.1111111111111111,\"#46039f\"],[0.2222222222222222,\"#7201a8\"],[0.3333333333333333,\"#9c179e\"],[0.4444444444444444,\"#bd3786\"],[0.5555555555555556,\"#d8576b\"],[0.6666666666666666,\"#ed7953\"],[0.7777777777777778,\"#fb9f3a\"],[0.8888888888888888,\"#fdca26\"],[1.0,\"#f0f921\"]],\"sequentialminus\":[[0.0,\"#0d0887\"],[0.1111111111111111,\"#46039f\"],[0.2222222222222222,\"#7201a8\"],[0.3333333333333333,\"#9c179e\"],[0.4444444444444444,\"#bd3786\"],[0.5555555555555556,\"#d8576b\"],[0.6666666666666666,\"#ed7953\"],[0.7777777777777778,\"#fb9f3a\"],[0.8888888888888888,\"#fdca26\"],[1.0,\"#f0f921\"]],\"diverging\":[[0,\"#8e0152\"],[0.1,\"#c51b7d\"],[0.2,\"#de77ae\"],[0.3,\"#f1b6da\"],[0.4,\"#fde0ef\"],[0.5,\"#f7f7f7\"],[0.6,\"#e6f5d0\"],[0.7,\"#b8e186\"],[0.8,\"#7fbc41\"],[0.9,\"#4d9221\"],[1,\"#276419\"]]},\"xaxis\":{\"gridcolor\":\"white\",\"linecolor\":\"white\",\"ticks\":\"\",\"title\":{\"standoff\":15},\"zerolinecolor\":\"white\",\"automargin\":true,\"zerolinewidth\":2},\"yaxis\":{\"gridcolor\":\"white\",\"linecolor\":\"white\",\"ticks\":\"\",\"title\":{\"standoff\":15},\"zerolinecolor\":\"white\",\"automargin\":true,\"zerolinewidth\":2},\"scene\":{\"xaxis\":{\"backgroundcolor\":\"#E5ECF6\",\"gridcolor\":\"white\",\"linecolor\":\"white\",\"showbackground\":true,\"ticks\":\"\",\"zerolinecolor\":\"white\",\"gridwidth\":2},\"yaxis\":{\"backgroundcolor\":\"#E5ECF6\",\"gridcolor\":\"white\",\"linecolor\":\"white\",\"showbackground\":true,\"ticks\":\"\",\"zerolinecolor\":\"white\",\"gridwidth\":2},\"zaxis\":{\"backgroundcolor\":\"#E5ECF6\",\"gridcolor\":\"white\",\"linecolor\":\"white\",\"showbackground\":true,\"ticks\":\"\",\"zerolinecolor\":\"white\",\"gridwidth\":2}},\"shapedefaults\":{\"line\":{\"color\":\"#2a3f5f\"}},\"annotationdefaults\":{\"arrowcolor\":\"#2a3f5f\",\"arrowhead\":0,\"arrowwidth\":1},\"geo\":{\"bgcolor\":\"white\",\"landcolor\":\"#E5ECF6\",\"subunitcolor\":\"white\",\"showland\":true,\"showlakes\":true,\"lakecolor\":\"white\"},\"title\":{\"x\":0.05},\"mapbox\":{\"style\":\"light\"}}}},                        {\"responsive\": true}                    ).then(function(){\n",
       "                            \n",
       "var gd = document.getElementById('52b7ecae-2b06-4839-b1ca-66bd4ebbc06b');\n",
       "var x = new MutationObserver(function (mutations, observer) {{\n",
       "        var display = window.getComputedStyle(gd).display;\n",
       "        if (!display || display === 'none') {{\n",
       "            console.log([gd, 'removed!']);\n",
       "            Plotly.purge(gd);\n",
       "            observer.disconnect();\n",
       "        }}\n",
       "}});\n",
       "\n",
       "// Listen for the removal of the full notebook cells\n",
       "var notebookContainer = gd.closest('#notebook-container');\n",
       "if (notebookContainer) {{\n",
       "    x.observe(notebookContainer, {childList: true});\n",
       "}}\n",
       "\n",
       "// Listen for the clearing of the current output cell\n",
       "var outputEl = gd.closest('.output');\n",
       "if (outputEl) {{\n",
       "    x.observe(outputEl, {childList: true});\n",
       "}}\n",
       "\n",
       "                        })                };                });            </script>        </div>"
      ]
     },
     "metadata": {},
     "output_type": "display_data"
    }
   ],
   "source": [
    "from plotly.figure_factory import create_dendrogram \n",
    "import numpy as np \n",
    "  \n",
    "X = np.random.rand(5, 5) \n",
    "names = ['Jack', 'Oxana', 'John', 'Chelsea', 'Mark'] \n",
    "  \n",
    "dendro = create_dendrogram(X, orientation = 'bottom', labels = names) \n",
    "dendro.update_layout({'width':600, 'height':500})  \n",
    "dendro.show()"
   ]
  },
  {
   "cell_type": "code",
   "execution_count": 5,
   "id": "b6910f75",
   "metadata": {},
   "outputs": [
    {
     "data": {
      "text/html": [
       "<div>\n",
       "<style scoped>\n",
       "    .dataframe tbody tr th:only-of-type {\n",
       "        vertical-align: middle;\n",
       "    }\n",
       "\n",
       "    .dataframe tbody tr th {\n",
       "        vertical-align: top;\n",
       "    }\n",
       "\n",
       "    .dataframe thead th {\n",
       "        text-align: right;\n",
       "    }\n",
       "</style>\n",
       "<table border=\"1\" class=\"dataframe\">\n",
       "  <thead>\n",
       "    <tr style=\"text-align: right;\">\n",
       "      <th></th>\n",
       "      <th>CustomerID</th>\n",
       "      <th>Age</th>\n",
       "      <th>Annual Income (k$)</th>\n",
       "      <th>Spending Score (1-100)</th>\n",
       "      <th>Genre</th>\n",
       "    </tr>\n",
       "  </thead>\n",
       "  <tbody>\n",
       "    <tr>\n",
       "      <th>0</th>\n",
       "      <td>1</td>\n",
       "      <td>19</td>\n",
       "      <td>15</td>\n",
       "      <td>39</td>\n",
       "      <td>Male</td>\n",
       "    </tr>\n",
       "    <tr>\n",
       "      <th>1</th>\n",
       "      <td>2</td>\n",
       "      <td>21</td>\n",
       "      <td>15</td>\n",
       "      <td>81</td>\n",
       "      <td>Male</td>\n",
       "    </tr>\n",
       "    <tr>\n",
       "      <th>2</th>\n",
       "      <td>3</td>\n",
       "      <td>20</td>\n",
       "      <td>16</td>\n",
       "      <td>6</td>\n",
       "      <td>Female</td>\n",
       "    </tr>\n",
       "    <tr>\n",
       "      <th>3</th>\n",
       "      <td>4</td>\n",
       "      <td>23</td>\n",
       "      <td>16</td>\n",
       "      <td>77</td>\n",
       "      <td>Female</td>\n",
       "    </tr>\n",
       "    <tr>\n",
       "      <th>4</th>\n",
       "      <td>5</td>\n",
       "      <td>31</td>\n",
       "      <td>17</td>\n",
       "      <td>40</td>\n",
       "      <td>Female</td>\n",
       "    </tr>\n",
       "  </tbody>\n",
       "</table>\n",
       "</div>"
      ],
      "text/plain": [
       "   CustomerID  Age  Annual Income (k$)  Spending Score (1-100)   Genre\n",
       "0           1   19                  15                      39    Male\n",
       "1           2   21                  15                      81    Male\n",
       "2           3   20                  16                       6  Female\n",
       "3           4   23                  16                      77  Female\n",
       "4           5   31                  17                      40  Female"
      ]
     },
     "execution_count": 5,
     "metadata": {},
     "output_type": "execute_result"
    }
   ],
   "source": [
    "# ======================================================================\n",
    "# Agglomerative clustering example\n",
    "# ======================================================================\n",
    "import numpy as np\n",
    "import matplotlib.pyplot as plt\n",
    "import pandas as pd\n",
    "dataset = pd.read_csv('Mall_Customers.csv')\n",
    "\n",
    "# Consider two attributes from the dataset 'Mall_Customers.csv', such as Age and Annual Income.\n",
    "# 1 means Age and 2 means Annual Income(k$)\n",
    "X = dataset.iloc[:, [1, 2]].values  \n",
    "\n",
    "# Display first 5 records\n",
    "dataset.head()"
   ]
  },
  {
   "cell_type": "code",
   "execution_count": 6,
   "id": "00974668",
   "metadata": {},
   "outputs": [
    {
     "name": "stdout",
     "output_type": "stream",
     "text": [
      "[[ 19  15]\n",
      " [ 21  15]\n",
      " [ 20  16]\n",
      " [ 23  16]\n",
      " [ 31  17]\n",
      " [ 22  17]\n",
      " [ 35  18]\n",
      " [ 23  18]\n",
      " [ 64  19]\n",
      " [ 30  19]\n",
      " [ 67  19]\n",
      " [ 35  19]\n",
      " [ 58  20]\n",
      " [ 24  20]\n",
      " [ 37  20]\n",
      " [ 22  20]\n",
      " [ 35  21]\n",
      " [ 20  21]\n",
      " [ 52  23]\n",
      " [ 35  23]\n",
      " [ 35  24]\n",
      " [ 25  24]\n",
      " [ 46  25]\n",
      " [ 31  25]\n",
      " [ 54  28]\n",
      " [ 29  28]\n",
      " [ 45  28]\n",
      " [ 35  28]\n",
      " [ 40  29]\n",
      " [ 23  29]\n",
      " [ 60  30]\n",
      " [ 21  30]\n",
      " [ 53  33]\n",
      " [ 18  33]\n",
      " [ 49  33]\n",
      " [ 21  33]\n",
      " [ 42  34]\n",
      " [ 30  34]\n",
      " [ 36  37]\n",
      " [ 20  37]\n",
      " [ 65  38]\n",
      " [ 24  38]\n",
      " [ 48  39]\n",
      " [ 31  39]\n",
      " [ 49  39]\n",
      " [ 24  39]\n",
      " [ 50  40]\n",
      " [ 27  40]\n",
      " [ 29  40]\n",
      " [ 31  40]\n",
      " [ 49  42]\n",
      " [ 33  42]\n",
      " [ 31  43]\n",
      " [ 59  43]\n",
      " [ 50  43]\n",
      " [ 47  43]\n",
      " [ 51  44]\n",
      " [ 69  44]\n",
      " [ 27  46]\n",
      " [ 53  46]\n",
      " [ 70  46]\n",
      " [ 19  46]\n",
      " [ 67  47]\n",
      " [ 54  47]\n",
      " [ 63  48]\n",
      " [ 18  48]\n",
      " [ 43  48]\n",
      " [ 68  48]\n",
      " [ 19  48]\n",
      " [ 32  48]\n",
      " [ 70  49]\n",
      " [ 47  49]\n",
      " [ 60  50]\n",
      " [ 60  50]\n",
      " [ 59  54]\n",
      " [ 26  54]\n",
      " [ 45  54]\n",
      " [ 40  54]\n",
      " [ 23  54]\n",
      " [ 49  54]\n",
      " [ 57  54]\n",
      " [ 38  54]\n",
      " [ 67  54]\n",
      " [ 46  54]\n",
      " [ 21  54]\n",
      " [ 48  54]\n",
      " [ 55  57]\n",
      " [ 22  57]\n",
      " [ 34  58]\n",
      " [ 50  58]\n",
      " [ 68  59]\n",
      " [ 18  59]\n",
      " [ 48  60]\n",
      " [ 40  60]\n",
      " [ 32  60]\n",
      " [ 24  60]\n",
      " [ 47  60]\n",
      " [ 27  60]\n",
      " [ 48  61]\n",
      " [ 20  61]\n",
      " [ 23  62]\n",
      " [ 49  62]\n",
      " [ 67  62]\n",
      " [ 26  62]\n",
      " [ 49  62]\n",
      " [ 21  62]\n",
      " [ 66  63]\n",
      " [ 54  63]\n",
      " [ 68  63]\n",
      " [ 66  63]\n",
      " [ 65  63]\n",
      " [ 19  63]\n",
      " [ 38  64]\n",
      " [ 19  64]\n",
      " [ 18  65]\n",
      " [ 19  65]\n",
      " [ 63  65]\n",
      " [ 49  65]\n",
      " [ 51  67]\n",
      " [ 50  67]\n",
      " [ 27  67]\n",
      " [ 38  67]\n",
      " [ 40  69]\n",
      " [ 39  69]\n",
      " [ 23  70]\n",
      " [ 31  70]\n",
      " [ 43  71]\n",
      " [ 40  71]\n",
      " [ 59  71]\n",
      " [ 38  71]\n",
      " [ 47  71]\n",
      " [ 39  71]\n",
      " [ 25  72]\n",
      " [ 31  72]\n",
      " [ 20  73]\n",
      " [ 29  73]\n",
      " [ 44  73]\n",
      " [ 32  73]\n",
      " [ 19  74]\n",
      " [ 35  74]\n",
      " [ 57  75]\n",
      " [ 32  75]\n",
      " [ 28  76]\n",
      " [ 32  76]\n",
      " [ 25  77]\n",
      " [ 28  77]\n",
      " [ 48  77]\n",
      " [ 32  77]\n",
      " [ 34  78]\n",
      " [ 34  78]\n",
      " [ 43  78]\n",
      " [ 39  78]\n",
      " [ 44  78]\n",
      " [ 38  78]\n",
      " [ 47  78]\n",
      " [ 27  78]\n",
      " [ 37  78]\n",
      " [ 30  78]\n",
      " [ 34  78]\n",
      " [ 30  78]\n",
      " [ 56  79]\n",
      " [ 29  79]\n",
      " [ 19  81]\n",
      " [ 31  81]\n",
      " [ 50  85]\n",
      " [ 36  85]\n",
      " [ 42  86]\n",
      " [ 33  86]\n",
      " [ 36  87]\n",
      " [ 32  87]\n",
      " [ 40  87]\n",
      " [ 28  87]\n",
      " [ 36  87]\n",
      " [ 36  87]\n",
      " [ 52  88]\n",
      " [ 30  88]\n",
      " [ 58  88]\n",
      " [ 27  88]\n",
      " [ 59  93]\n",
      " [ 35  93]\n",
      " [ 37  97]\n",
      " [ 32  97]\n",
      " [ 46  98]\n",
      " [ 29  98]\n",
      " [ 41  99]\n",
      " [ 30  99]\n",
      " [ 54 101]\n",
      " [ 28 101]\n",
      " [ 41 103]\n",
      " [ 36 103]\n",
      " [ 34 103]\n",
      " [ 32 103]\n",
      " [ 33 113]\n",
      " [ 38 113]\n",
      " [ 47 120]\n",
      " [ 35 120]\n",
      " [ 45 126]\n",
      " [ 32 126]\n",
      " [ 32 137]\n",
      " [ 30 137]]\n"
     ]
    }
   ],
   "source": [
    "# Display an array of only two columns\n",
    "print(X)"
   ]
  },
  {
   "cell_type": "code",
   "execution_count": 8,
   "id": "425bd1b6",
   "metadata": {},
   "outputs": [
    {
     "data": {
      "image/png": "[encoded data removed]",
      "text/plain": [
       "<Figure size 640x480 with 1 Axes>"
      ]
     },
     "metadata": {},
     "output_type": "display_data"
    }
   ],
   "source": [
    "# import the library for hierarchical clustering\n",
    "import scipy.cluster.hierarchy as sch\n",
    "\n",
    "# Call the method dendrogram by using an object sch\n",
    "dendrogrm = sch.dendrogram(sch.linkage(X, method = 'single')) # Single joins from the smallest \n",
    "plt.title('Dendrogram')\n",
    "plt.xlabel('Customers')\n",
    "plt.ylabel('Euclidean distance')\n",
    "plt.show()"
   ]
  },
  {
   "cell_type": "code",
   "execution_count": 9,
   "id": "beb82843",
   "metadata": {},
   "outputs": [
    {
     "data": {
      "image/png": "[encoded data removed]",
      "text/plain": [
       "<Figure size 640x480 with 1 Axes>"
      ]
     },
     "metadata": {},
     "output_type": "display_data"
    }
   ],
   "source": [
    "# import the library for hierarchical clustering\n",
    "import scipy.cluster.hierarchy as sch\n",
    "\n",
    "# Call the method dendrogram by using an object sch\n",
    "dendrogrm = sch.dendrogram(sch.linkage(X, method = 'complete'))\n",
    "plt.title('Dendrogram')\n",
    "plt.xlabel('Customers')\n",
    "plt.ylabel('Euclidean distance')\n",
    "plt.show()"
   ]
  },
  {
   "cell_type": "code",
   "execution_count": 10,
   "id": "d00b5f8e",
   "metadata": {},
   "outputs": [
    {
     "data": {
      "image/png": "[encoded data removed]",
      "text/plain": [
       "<Figure size 640x480 with 1 Axes>"
      ]
     },
     "metadata": {},
     "output_type": "display_data"
    }
   ],
   "source": [
    "# import the library for hierarchical clustering\n",
    "import scipy.cluster.hierarchy as sch\n",
    "\n",
    "# Call the method dendrogram by using an object sch\n",
    "dendrogrm = sch.dendrogram(sch.linkage(X, method = 'ward')) # ward provides the best result  \n",
    "plt.title('Dendrogram')\n",
    "plt.xlabel('Customers')\n",
    "plt.ylabel('Euclidean distance')\n",
    "plt.show()"
   ]
  },
  {
   "cell_type": "code",
   "execution_count": 11,
   "id": "8780fed6",
   "metadata": {
    "scrolled": false
   },
   "outputs": [
    {
     "data": {
      "image/png": "[encoded data removed]",
      "text/plain": [
       "<Figure size 640x480 with 1 Axes>"
      ]
     },
     "metadata": {},
     "output_type": "display_data"
    }
   ],
   "source": [
    "# import the library for Agglomerative clustering\n",
    "from sklearn.cluster import AgglomerativeClustering\n",
    "\n",
    "# Initialise an object 'hc' by calling a method 'AgglomerativeClustering'\n",
    "hc = AgglomerativeClustering(n_clusters = 5, affinity = 'euclidean', linkage = 'ward')\n",
    "\n",
    "# Train the model by calling a method 'fit_predict(X)'\n",
    "y_hc = hc.fit_predict(X)\n",
    "\n",
    "# Visualising the clusters\n",
    "plt.scatter(X[y_hc == 0, 0], X[y_hc == 0, 1], s = 50, c = 'red', label = 'Careful')\n",
    "plt.scatter(X[y_hc == 1, 0], X[y_hc == 1, 1], s = 50, c = 'blue', label = 'Standard')\n",
    "plt.scatter(X[y_hc == 2, 0], X[y_hc == 2, 1], s = 50, c = 'green', label = 'Target')\n",
    "plt.scatter(X[y_hc == 3, 0], X[y_hc == 3, 1], s = 50, c = 'cyan', label = 'Careless')\n",
    "plt.scatter(X[y_hc == 4, 0], X[y_hc == 4, 1], s = 50, c = 'magenta', label = 'Sensible')\n",
    "plt.title('Clusters of customers')\n",
    "plt.xlabel('Annual Income (k$)')\n",
    "plt.ylabel('Spending Score (1-100)')\n",
    "plt.legend()\n",
    "plt.show()"
   ]
  },
  {
   "cell_type": "markdown",
   "id": "e1be7976",
   "metadata": {},
   "source": [
    "## Task 1: Perform hierarchical clustering on the dataset, 'Wholesale_customers_data.csv' and complete two exercises provided on Moodle."
   ]
  },
  {
   "cell_type": "markdown",
   "id": "88364937",
   "metadata": {},
   "source": [
    "## Wholesale_customer dataset."
   ]
  },
  {
   "cell_type": "code",
   "execution_count": 13,
   "id": "8cc60cbc",
   "metadata": {},
   "outputs": [
    {
     "data": {
      "text/html": [
       "<div>\n",
       "<style scoped>\n",
       "    .dataframe tbody tr th:only-of-type {\n",
       "        vertical-align: middle;\n",
       "    }\n",
       "\n",
       "    .dataframe tbody tr th {\n",
       "        vertical-align: top;\n",
       "    }\n",
       "\n",
       "    .dataframe thead th {\n",
       "        text-align: right;\n",
       "    }\n",
       "</style>\n",
       "<table border=\"1\" class=\"dataframe\">\n",
       "  <thead>\n",
       "    <tr style=\"text-align: right;\">\n",
       "      <th></th>\n",
       "      <th>Channel</th>\n",
       "      <th>Region</th>\n",
       "      <th>Fresh</th>\n",
       "      <th>Milk</th>\n",
       "      <th>Grocery</th>\n",
       "      <th>Frozen</th>\n",
       "      <th>Detergents_Paper</th>\n",
       "      <th>Delicassen</th>\n",
       "    </tr>\n",
       "  </thead>\n",
       "  <tbody>\n",
       "    <tr>\n",
       "      <th>0</th>\n",
       "      <td>2</td>\n",
       "      <td>3</td>\n",
       "      <td>12669</td>\n",
       "      <td>9656</td>\n",
       "      <td>7561</td>\n",
       "      <td>214</td>\n",
       "      <td>2674</td>\n",
       "      <td>1338</td>\n",
       "    </tr>\n",
       "    <tr>\n",
       "      <th>1</th>\n",
       "      <td>2</td>\n",
       "      <td>3</td>\n",
       "      <td>7057</td>\n",
       "      <td>9810</td>\n",
       "      <td>9568</td>\n",
       "      <td>1762</td>\n",
       "      <td>3293</td>\n",
       "      <td>1776</td>\n",
       "    </tr>\n",
       "    <tr>\n",
       "      <th>2</th>\n",
       "      <td>2</td>\n",
       "      <td>3</td>\n",
       "      <td>6353</td>\n",
       "      <td>8808</td>\n",
       "      <td>7684</td>\n",
       "      <td>2405</td>\n",
       "      <td>3516</td>\n",
       "      <td>7844</td>\n",
       "    </tr>\n",
       "    <tr>\n",
       "      <th>3</th>\n",
       "      <td>1</td>\n",
       "      <td>3</td>\n",
       "      <td>13265</td>\n",
       "      <td>1196</td>\n",
       "      <td>4221</td>\n",
       "      <td>6404</td>\n",
       "      <td>507</td>\n",
       "      <td>1788</td>\n",
       "    </tr>\n",
       "    <tr>\n",
       "      <th>4</th>\n",
       "      <td>2</td>\n",
       "      <td>3</td>\n",
       "      <td>22615</td>\n",
       "      <td>5410</td>\n",
       "      <td>7198</td>\n",
       "      <td>3915</td>\n",
       "      <td>1777</td>\n",
       "      <td>5185</td>\n",
       "    </tr>\n",
       "  </tbody>\n",
       "</table>\n",
       "</div>"
      ],
      "text/plain": [
       "   Channel  Region  Fresh  Milk  Grocery  Frozen  Detergents_Paper  Delicassen\n",
       "0        2       3  12669  9656     7561     214              2674        1338\n",
       "1        2       3   7057  9810     9568    1762              3293        1776\n",
       "2        2       3   6353  8808     7684    2405              3516        7844\n",
       "3        1       3  13265  1196     4221    6404               507        1788\n",
       "4        2       3  22615  5410     7198    3915              1777        5185"
      ]
     },
     "execution_count": 13,
     "metadata": {},
     "output_type": "execute_result"
    }
   ],
   "source": [
    "df = pd.read_csv('Wholesale_customers_data.csv')\n",
    "df.head()"
   ]
  },
  {
   "cell_type": "code",
   "execution_count": 17,
   "id": "62e05b51",
   "metadata": {},
   "outputs": [],
   "source": [
    "X = df.iloc[:, [0,1]].values"
   ]
  },
  {
   "cell_type": "code",
   "execution_count": 18,
   "id": "9ce90d05",
   "metadata": {},
   "outputs": [
    {
     "name": "stdout",
     "output_type": "stream",
     "text": [
      "[[2 3]\n",
      " [2 3]\n",
      " [2 3]\n",
      " [1 3]\n",
      " [2 3]\n",
      " [2 3]\n",
      " [2 3]\n",
      " [2 3]\n",
      " [1 3]\n",
      " [2 3]\n",
      " [2 3]\n",
      " [2 3]\n",
      " [2 3]\n",
      " [2 3]\n",
      " [2 3]\n",
      " [1 3]\n",
      " [2 3]\n",
      " [1 3]\n",
      " [2 3]\n",
      " [1 3]\n",
      " [2 3]\n",
      " [1 3]\n",
      " [1 3]\n",
      " [2 3]\n",
      " [2 3]\n",
      " [2 3]\n",
      " [1 3]\n",
      " [1 3]\n",
      " [2 3]\n",
      " [1 3]\n",
      " [1 3]\n",
      " [1 3]\n",
      " [1 3]\n",
      " [1 3]\n",
      " [1 3]\n",
      " [2 3]\n",
      " [1 3]\n",
      " [2 3]\n",
      " [2 3]\n",
      " [1 3]\n",
      " [1 3]\n",
      " [1 3]\n",
      " [2 3]\n",
      " [2 3]\n",
      " [2 3]\n",
      " [2 3]\n",
      " [2 3]\n",
      " [2 3]\n",
      " [2 3]\n",
      " [2 3]\n",
      " [1 3]\n",
      " [1 3]\n",
      " [2 3]\n",
      " [2 3]\n",
      " [1 3]\n",
      " [1 3]\n",
      " [2 3]\n",
      " [2 3]\n",
      " [1 3]\n",
      " [1 3]\n",
      " [2 3]\n",
      " [2 3]\n",
      " [2 3]\n",
      " [2 3]\n",
      " [1 3]\n",
      " [2 3]\n",
      " [1 3]\n",
      " [2 3]\n",
      " [1 3]\n",
      " [1 3]\n",
      " [1 3]\n",
      " [1 3]\n",
      " [1 3]\n",
      " [2 3]\n",
      " [2 3]\n",
      " [1 3]\n",
      " [1 3]\n",
      " [2 3]\n",
      " [1 3]\n",
      " [1 3]\n",
      " [1 3]\n",
      " [2 3]\n",
      " [2 3]\n",
      " [1 3]\n",
      " [2 3]\n",
      " [2 3]\n",
      " [2 3]\n",
      " [1 3]\n",
      " [1 3]\n",
      " [1 3]\n",
      " [1 3]\n",
      " [1 3]\n",
      " [2 3]\n",
      " [1 3]\n",
      " [2 3]\n",
      " [1 3]\n",
      " [2 3]\n",
      " [1 3]\n",
      " [1 3]\n",
      " [1 3]\n",
      " [2 3]\n",
      " [2 3]\n",
      " [2 3]\n",
      " [1 3]\n",
      " [1 3]\n",
      " [1 3]\n",
      " [2 3]\n",
      " [2 3]\n",
      " [2 3]\n",
      " [2 3]\n",
      " [1 3]\n",
      " [2 3]\n",
      " [1 3]\n",
      " [1 3]\n",
      " [1 3]\n",
      " [1 3]\n",
      " [1 3]\n",
      " [1 3]\n",
      " [1 3]\n",
      " [1 3]\n",
      " [1 3]\n",
      " [1 3]\n",
      " [1 3]\n",
      " [2 3]\n",
      " [1 3]\n",
      " [1 3]\n",
      " [1 3]\n",
      " [2 3]\n",
      " [1 3]\n",
      " [1 3]\n",
      " [1 3]\n",
      " [1 3]\n",
      " [1 3]\n",
      " [1 3]\n",
      " [1 3]\n",
      " [1 3]\n",
      " [1 3]\n",
      " [1 3]\n",
      " [1 3]\n",
      " [1 3]\n",
      " [1 3]\n",
      " [1 3]\n",
      " [1 3]\n",
      " [1 3]\n",
      " [1 3]\n",
      " [2 3]\n",
      " [1 3]\n",
      " [1 3]\n",
      " [1 3]\n",
      " [1 3]\n",
      " [1 3]\n",
      " [1 3]\n",
      " [1 3]\n",
      " [1 3]\n",
      " [1 3]\n",
      " [2 3]\n",
      " [2 3]\n",
      " [1 3]\n",
      " [2 3]\n",
      " [2 3]\n",
      " [2 3]\n",
      " [1 3]\n",
      " [1 3]\n",
      " [2 3]\n",
      " [2 3]\n",
      " [2 3]\n",
      " [2 3]\n",
      " [1 3]\n",
      " [1 3]\n",
      " [1 3]\n",
      " [2 3]\n",
      " [2 3]\n",
      " [1 3]\n",
      " [2 3]\n",
      " [1 3]\n",
      " [2 3]\n",
      " [1 3]\n",
      " [1 3]\n",
      " [1 3]\n",
      " [1 3]\n",
      " [1 3]\n",
      " [1 3]\n",
      " [1 3]\n",
      " [1 3]\n",
      " [1 3]\n",
      " [1 3]\n",
      " [1 3]\n",
      " [1 3]\n",
      " [2 3]\n",
      " [2 3]\n",
      " [1 3]\n",
      " [1 3]\n",
      " [1 3]\n",
      " [2 3]\n",
      " [1 3]\n",
      " [1 3]\n",
      " [1 1]\n",
      " [2 1]\n",
      " [1 1]\n",
      " [1 1]\n",
      " [2 1]\n",
      " [2 1]\n",
      " [1 1]\n",
      " [1 1]\n",
      " [1 1]\n",
      " [2 1]\n",
      " [1 1]\n",
      " [2 1]\n",
      " [1 1]\n",
      " [2 1]\n",
      " [1 1]\n",
      " [2 1]\n",
      " [1 1]\n",
      " [1 1]\n",
      " [2 1]\n",
      " [1 1]\n",
      " [2 1]\n",
      " [1 1]\n",
      " [2 1]\n",
      " [1 1]\n",
      " [1 1]\n",
      " [1 1]\n",
      " [1 1]\n",
      " [2 1]\n",
      " [1 1]\n",
      " [1 1]\n",
      " [2 1]\n",
      " [1 1]\n",
      " [1 1]\n",
      " [1 1]\n",
      " [2 1]\n",
      " [1 1]\n",
      " [1 1]\n",
      " [1 1]\n",
      " [1 1]\n",
      " [1 1]\n",
      " [1 1]\n",
      " [1 1]\n",
      " [1 1]\n",
      " [1 1]\n",
      " [1 1]\n",
      " [1 1]\n",
      " [1 1]\n",
      " [1 1]\n",
      " [1 1]\n",
      " [2 1]\n",
      " [1 1]\n",
      " [1 1]\n",
      " [1 1]\n",
      " [1 1]\n",
      " [1 1]\n",
      " [2 1]\n",
      " [1 1]\n",
      " [1 1]\n",
      " [1 1]\n",
      " [1 1]\n",
      " [1 1]\n",
      " [1 1]\n",
      " [1 1]\n",
      " [1 1]\n",
      " [1 1]\n",
      " [1 1]\n",
      " [1 1]\n",
      " [1 1]\n",
      " [2 1]\n",
      " [1 1]\n",
      " [2 1]\n",
      " [1 1]\n",
      " [2 1]\n",
      " [1 1]\n",
      " [1 1]\n",
      " [1 1]\n",
      " [1 1]\n",
      " [1 3]\n",
      " [1 3]\n",
      " [1 3]\n",
      " [1 3]\n",
      " [1 3]\n",
      " [1 3]\n",
      " [2 3]\n",
      " [1 3]\n",
      " [2 3]\n",
      " [1 3]\n",
      " [1 3]\n",
      " [1 3]\n",
      " [1 3]\n",
      " [1 3]\n",
      " [1 3]\n",
      " [1 3]\n",
      " [1 3]\n",
      " [1 3]\n",
      " [1 3]\n",
      " [1 3]\n",
      " [2 2]\n",
      " [1 2]\n",
      " [2 2]\n",
      " [1 2]\n",
      " [2 2]\n",
      " [2 2]\n",
      " [1 2]\n",
      " [2 2]\n",
      " [2 2]\n",
      " [2 2]\n",
      " [2 2]\n",
      " [2 2]\n",
      " [2 2]\n",
      " [2 2]\n",
      " [1 2]\n",
      " [1 2]\n",
      " [2 2]\n",
      " [1 2]\n",
      " [1 2]\n",
      " [2 2]\n",
      " [1 2]\n",
      " [1 2]\n",
      " [2 2]\n",
      " [1 2]\n",
      " [1 2]\n",
      " [1 2]\n",
      " [2 2]\n",
      " [1 2]\n",
      " [1 2]\n",
      " [1 2]\n",
      " [1 2]\n",
      " [1 2]\n",
      " [1 2]\n",
      " [1 2]\n",
      " [1 2]\n",
      " [1 2]\n",
      " [1 2]\n",
      " [1 2]\n",
      " [2 2]\n",
      " [1 2]\n",
      " [2 2]\n",
      " [2 2]\n",
      " [2 2]\n",
      " [1 2]\n",
      " [1 2]\n",
      " [1 2]\n",
      " [1 2]\n",
      " [2 3]\n",
      " [2 3]\n",
      " [1 3]\n",
      " [2 3]\n",
      " [1 3]\n",
      " [1 3]\n",
      " [2 3]\n",
      " [2 3]\n",
      " [1 3]\n",
      " [2 3]\n",
      " [1 3]\n",
      " [2 3]\n",
      " [1 3]\n",
      " [2 3]\n",
      " [1 3]\n",
      " [1 3]\n",
      " [1 3]\n",
      " [2 3]\n",
      " [1 3]\n",
      " [1 3]\n",
      " [1 3]\n",
      " [1 3]\n",
      " [1 3]\n",
      " [1 3]\n",
      " [1 3]\n",
      " [2 3]\n",
      " [1 3]\n",
      " [1 3]\n",
      " [1 3]\n",
      " [1 3]\n",
      " [2 3]\n",
      " [1 3]\n",
      " [1 3]\n",
      " [2 3]\n",
      " [1 3]\n",
      " [1 3]\n",
      " [2 3]\n",
      " [1 3]\n",
      " [1 3]\n",
      " [2 3]\n",
      " [1 3]\n",
      " [1 3]\n",
      " [1 3]\n",
      " [1 3]\n",
      " [1 3]\n",
      " [1 3]\n",
      " [1 3]\n",
      " [1 3]\n",
      " [1 3]\n",
      " [1 3]\n",
      " [1 3]\n",
      " [1 3]\n",
      " [1 3]\n",
      " [1 3]\n",
      " [1 3]\n",
      " [1 3]\n",
      " [2 3]\n",
      " [1 3]\n",
      " [1 3]\n",
      " [1 3]\n",
      " [1 3]\n",
      " [1 3]\n",
      " [1 3]\n",
      " [1 3]\n",
      " [1 3]\n",
      " [1 3]\n",
      " [1 3]\n",
      " [2 3]\n",
      " [2 3]\n",
      " [1 3]\n",
      " [1 3]\n",
      " [1 3]\n",
      " [1 3]\n",
      " [1 3]\n",
      " [1 3]\n",
      " [2 3]\n",
      " [2 3]\n",
      " [1 3]\n",
      " [2 3]\n",
      " [1 3]\n",
      " [1 3]\n",
      " [2 3]\n",
      " [1 3]\n",
      " [2 3]\n",
      " [2 3]\n",
      " [1 3]\n",
      " [1 3]\n",
      " [1 3]\n",
      " [1 3]\n",
      " [1 3]\n",
      " [1 3]\n",
      " [1 3]\n",
      " [1 3]\n",
      " [1 3]\n",
      " [1 3]\n",
      " [1 3]\n",
      " [1 3]\n",
      " [2 3]\n",
      " [1 3]\n",
      " [1 3]]\n"
     ]
    }
   ],
   "source": [
    "print(X)"
   ]
  },
  {
   "cell_type": "markdown",
   "id": "97e37a07",
   "metadata": {},
   "source": [
    "## Ploting Dendogram"
   ]
  },
  {
   "cell_type": "code",
   "execution_count": 20,
   "id": "705cb91b",
   "metadata": {},
   "outputs": [
    {
     "data": {
      "image/png": "[encoded data removed]",
      "text/plain": [
       "<Figure size 640x480 with 1 Axes>"
      ]
     },
     "metadata": {},
     "output_type": "display_data"
    }
   ],
   "source": [
    "# import the library for hierarchical clustering\n",
    "import scipy.cluster.hierarchy as sch\n",
    "\n",
    "# Call the method dendrogram by using an object sch\n",
    "dendrogrm = sch.dendrogram(sch.linkage(X, method = 'ward')) # Single joins from the smallest \n",
    "plt.title('Dendrogram')\n",
    "plt.xlabel('Region')\n",
    "plt.ylabel('Channel')\n",
    "plt.show()"
   ]
  },
  {
   "cell_type": "markdown",
   "id": "85fd87b2",
   "metadata": {},
   "source": [
    "## Plotting Clusters"
   ]
  },
  {
   "cell_type": "code",
   "execution_count": 21,
   "id": "f92b2b6b",
   "metadata": {},
   "outputs": [
    {
     "data": {
      "image/png": "[encoded data removed]",
      "text/plain": [
       "<Figure size 640x480 with 1 Axes>"
      ]
     },
     "metadata": {},
     "output_type": "display_data"
    }
   ],
   "source": [
    "# import the library for Agglomerative clustering\n",
    "from sklearn.cluster import AgglomerativeClustering\n",
    "\n",
    "# Initialise an object 'hc' by calling a method 'AgglomerativeClustering'\n",
    "HC = AgglomerativeClustering(n_clusters = 3, affinity = 'euclidean', linkage = 'ward')\n",
    "\n",
    "# Train the model by calling a method 'fit_predict(X)'\n",
    "pred_hc = HC.fit_predict(X)\n",
    "\n",
    "# Visualising the clusters\n",
    "plt.scatter(X[pred_hc == 0, 0], X[pred_hc == 0, 1], s = 30, c = 'red', label = 'Region-1')\n",
    "plt.scatter(X[pred_hc == 1, 0], X[pred_hc == 1, 1], s = 30, c = 'blue', label = 'Region-2')\n",
    "plt.scatter(X[pred_hc == 2, 0], X[pred_hc == 2, 1], s = 30, c = 'green', label = 'Region-3')\n",
    "#plt.scatter(X[y_hc == 3, 0], X[y_hc == 3, 1], s = 50, c = 'cyan', label = 'Careless')\n",
    "#plt.scatter(X[y_hc == 4, 0], X[y_hc == 4, 1], s = 50, c = 'magenta', label = 'Sensible')\n",
    "plt.title('Clusters of customers')\n",
    "plt.xlabel('Channel')\n",
    "plt.ylabel('Region')\n",
    "plt.legend()\n",
    "plt.show()"
   ]
  },
  {
   "cell_type": "code",
   "execution_count": 22,
   "id": "dc58921b",
   "metadata": {},
   "outputs": [
    {
     "data": {
      "text/html": [
       "<div>\n",
       "<style scoped>\n",
       "    .dataframe tbody tr th:only-of-type {\n",
       "        vertical-align: middle;\n",
       "    }\n",
       "\n",
       "    .dataframe tbody tr th {\n",
       "        vertical-align: top;\n",
       "    }\n",
       "\n",
       "    .dataframe thead th {\n",
       "        text-align: right;\n",
       "    }\n",
       "</style>\n",
       "<table border=\"1\" class=\"dataframe\">\n",
       "  <thead>\n",
       "    <tr style=\"text-align: right;\">\n",
       "      <th></th>\n",
       "      <th>Channel</th>\n",
       "      <th>Region</th>\n",
       "      <th>Fresh</th>\n",
       "      <th>Milk</th>\n",
       "      <th>Grocery</th>\n",
       "      <th>Frozen</th>\n",
       "      <th>Detergents_Paper</th>\n",
       "      <th>Delicassen</th>\n",
       "    </tr>\n",
       "  </thead>\n",
       "  <tbody>\n",
       "    <tr>\n",
       "      <th>0</th>\n",
       "      <td>2</td>\n",
       "      <td>3</td>\n",
       "      <td>12669</td>\n",
       "      <td>9656</td>\n",
       "      <td>7561</td>\n",
       "      <td>214</td>\n",
       "      <td>2674</td>\n",
       "      <td>1338</td>\n",
       "    </tr>\n",
       "    <tr>\n",
       "      <th>1</th>\n",
       "      <td>2</td>\n",
       "      <td>3</td>\n",
       "      <td>7057</td>\n",
       "      <td>9810</td>\n",
       "      <td>9568</td>\n",
       "      <td>1762</td>\n",
       "      <td>3293</td>\n",
       "      <td>1776</td>\n",
       "    </tr>\n",
       "    <tr>\n",
       "      <th>2</th>\n",
       "      <td>2</td>\n",
       "      <td>3</td>\n",
       "      <td>6353</td>\n",
       "      <td>8808</td>\n",
       "      <td>7684</td>\n",
       "      <td>2405</td>\n",
       "      <td>3516</td>\n",
       "      <td>7844</td>\n",
       "    </tr>\n",
       "    <tr>\n",
       "      <th>3</th>\n",
       "      <td>1</td>\n",
       "      <td>3</td>\n",
       "      <td>13265</td>\n",
       "      <td>1196</td>\n",
       "      <td>4221</td>\n",
       "      <td>6404</td>\n",
       "      <td>507</td>\n",
       "      <td>1788</td>\n",
       "    </tr>\n",
       "    <tr>\n",
       "      <th>4</th>\n",
       "      <td>2</td>\n",
       "      <td>3</td>\n",
       "      <td>22615</td>\n",
       "      <td>5410</td>\n",
       "      <td>7198</td>\n",
       "      <td>3915</td>\n",
       "      <td>1777</td>\n",
       "      <td>5185</td>\n",
       "    </tr>\n",
       "  </tbody>\n",
       "</table>\n",
       "</div>"
      ],
      "text/plain": [
       "   Channel  Region  Fresh  Milk  Grocery  Frozen  Detergents_Paper  Delicassen\n",
       "0        2       3  12669  9656     7561     214              2674        1338\n",
       "1        2       3   7057  9810     9568    1762              3293        1776\n",
       "2        2       3   6353  8808     7684    2405              3516        7844\n",
       "3        1       3  13265  1196     4221    6404               507        1788\n",
       "4        2       3  22615  5410     7198    3915              1777        5185"
      ]
     },
     "execution_count": 22,
     "metadata": {},
     "output_type": "execute_result"
    }
   ],
   "source": [
    "df.head()"
   ]
  },
  {
   "cell_type": "code",
   "execution_count": 27,
   "id": "489fe234",
   "metadata": {},
   "outputs": [],
   "source": [
    "X_1 = df.iloc[:, [2,4]].values"
   ]
  },
  {
   "cell_type": "code",
   "execution_count": 28,
   "id": "2c34c6a4",
   "metadata": {
    "collapsed": true
   },
   "outputs": [
    {
     "name": "stdout",
     "output_type": "stream",
     "text": [
      "[[ 12669   7561]\n",
      " [  7057   9568]\n",
      " [  6353   7684]\n",
      " [ 13265   4221]\n",
      " [ 22615   7198]\n",
      " [  9413   5126]\n",
      " [ 12126   6975]\n",
      " [  7579   9426]\n",
      " [  5963   6192]\n",
      " [  6006  18881]\n",
      " [  3366  12974]\n",
      " [ 13146   4523]\n",
      " [ 31714  11757]\n",
      " [ 21217  14982]\n",
      " [ 24653  12091]\n",
      " [ 10253   3821]\n",
      " [  1020  12121]\n",
      " [  5876   2933]\n",
      " [ 18601  10099]\n",
      " [  7780   9464]\n",
      " [ 17546   4602]\n",
      " [  5567   2010]\n",
      " [ 31276   4469]\n",
      " [ 26373  22019]\n",
      " [ 22647  13792]\n",
      " [ 16165   7595]\n",
      " [  9898   2861]\n",
      " [ 14276   3045]\n",
      " [  4113  25957]\n",
      " [ 43088   2609]\n",
      " [ 18815  11107]\n",
      " [  2612   3133]\n",
      " [ 21632   2886]\n",
      " [ 29729   7326]\n",
      " [  1502   2262]\n",
      " [   688  11091]\n",
      " [ 29955   5428]\n",
      " [ 15168  12477]\n",
      " [  4591  16709]\n",
      " [ 56159    902]\n",
      " [ 24025   4757]\n",
      " [ 19176   5956]\n",
      " [ 10850  14961]\n",
      " [   630  23998]\n",
      " [  9670  10471]\n",
      " [  5181  21531]\n",
      " [  3103  21955]\n",
      " [ 44466  55571]\n",
      " [ 11519  10868]\n",
      " [  4967  28921]\n",
      " [  6269   1980]\n",
      " [  3347   6996]\n",
      " [ 40721   5876]\n",
      " [   491  11532]\n",
      " [ 27329   1947]\n",
      " [  5264   5005]\n",
      " [  4098  26866]\n",
      " [  5417  10487]\n",
      " [ 13779   1648]\n",
      " [  6137   8040]\n",
      " [  8590   7854]\n",
      " [ 35942  59598]\n",
      " [  7823   6544]\n",
      " [  9396  15775]\n",
      " [  4760   3250]\n",
      " [    85  45828]\n",
      " [     9   7417]\n",
      " [ 19913  13462]\n",
      " [  2446   3993]\n",
      " [  8352   1293]\n",
      " [ 16705   3202]\n",
      " [ 18291  21042]\n",
      " [  4420   2661]\n",
      " [ 19899   8713]\n",
      " [  8190   9794]\n",
      " [ 20398      3]\n",
      " [   717   6532]\n",
      " [ 12205  28540]\n",
      " [ 10766   2067]\n",
      " [  1640   3655]\n",
      " [  7005   3009]\n",
      " [   219  14403]\n",
      " [ 10362  11009]\n",
      " [ 20874   1783]\n",
      " [ 11867   4814]\n",
      " [ 16117  92780]\n",
      " [ 22925  32114]\n",
      " [ 43265   8117]\n",
      " [  7864   4042]\n",
      " [ 24904   5330]\n",
      " [ 11405   1638]\n",
      " [ 12754   2530]\n",
      " [  9198  32034]\n",
      " [ 11314   2062]\n",
      " [  5626  11323]\n",
      " [     3   6252]\n",
      " [    23   8118]\n",
      " [   403    610]\n",
      " [   503    778]\n",
      " [  9658   1909]\n",
      " [ 11594  12144]\n",
      " [  1420  16267]\n",
      " [  2932   7677]\n",
      " [ 56082   8906]\n",
      " [ 14100   3445]\n",
      " [ 15587   3970]\n",
      " [  1454  10704]\n",
      " [  8797  14886]\n",
      " [  1531   6981]\n",
      " [  1406  28986]\n",
      " [ 11818   1694]\n",
      " [ 12579  17569]\n",
      " [ 19046   2469]\n",
      " [ 14438   1733]\n",
      " [ 18044   2000]\n",
      " [ 11134   2988]\n",
      " [ 11173   3355]\n",
      " [  6990   5380]\n",
      " [ 20049   2362]\n",
      " [  8258   2147]\n",
      " [ 17160   3412]\n",
      " [  4020   1498]\n",
      " [ 12212    245]\n",
      " [ 11170   8814]\n",
      " [ 36050   2961]\n",
      " [ 76237   7102]\n",
      " [ 19219   1658]\n",
      " [ 21465  10685]\n",
      " [   140   3823]\n",
      " [ 42312   1510]\n",
      " [  7149    699]\n",
      " [  2101    314]\n",
      " [ 14903   2479]\n",
      " [  9434   1235]\n",
      " [  7388   2174]\n",
      " [  6300   2591]\n",
      " [  4625   7030]\n",
      " [  3087   8282]\n",
      " [ 13537   5034]\n",
      " [  5387   3343]\n",
      " [ 17623   7305]\n",
      " [ 30379   5189]\n",
      " [ 37036   8253]\n",
      " [ 10405   1096]\n",
      " [ 18827   1988]\n",
      " [ 22039  34792]\n",
      " [  7769   2177]\n",
      " [  9203   2707]\n",
      " [  5924    542]\n",
      " [ 31812   1651]\n",
      " [ 16225   1765]\n",
      " [  1289   2022]\n",
      " [ 18840   3135]\n",
      " [  3463   2368]\n",
      " [   622    137]\n",
      " [  1989  19460]\n",
      " [  3830  14855]\n",
      " [ 17773   2474]\n",
      " [  2861   9618]\n",
      " [   355  14682]\n",
      " [  1725  12822]\n",
      " [ 12434    283]\n",
      " [ 15177   3810]\n",
      " [  5531  26870]\n",
      " [  5224   8584]\n",
      " [ 15615  19858]\n",
      " [  4822   9170]\n",
      " [  2926   3268]\n",
      " [  5809    803]\n",
      " [  5414   2155]\n",
      " [   260  13430]\n",
      " [   200  19816]\n",
      " [   955   6536]\n",
      " [   514  19805]\n",
      " [   286   5241]\n",
      " [  2343  11874]\n",
      " [ 45640   6536]\n",
      " [ 12759   4533]\n",
      " [ 11002   4945]\n",
      " [  3157   2500]\n",
      " [ 12356   8887]\n",
      " [112151  18148]\n",
      " [   694  10518]\n",
      " [ 36847  20170]\n",
      " [   327   4710]\n",
      " [  8170   1139]\n",
      " [  3009    854]\n",
      " [  2438   9819]\n",
      " [  8040  11687]\n",
      " [   834  11522]\n",
      " [ 16936   1981]\n",
      " [ 13624   1381]\n",
      " [  5509   2251]\n",
      " [   180  20292]\n",
      " [  7107   2974]\n",
      " [ 17023   5230]\n",
      " [ 30624   4897]\n",
      " [  2427  10391]\n",
      " [ 11686   6824]\n",
      " [  9670   2112]\n",
      " [  3067  23127]\n",
      " [  4484  24708]\n",
      " [ 25203   9490]\n",
      " [   583   2216]\n",
      " [  1956   5226]\n",
      " [  1107  23596]\n",
      " [  6373    950]\n",
      " [  2541   6089]\n",
      " [  1537   5838]\n",
      " [  5550  16767]\n",
      " [ 18567   1393]\n",
      " [ 12119  39694]\n",
      " [  7291   2062]\n",
      " [  3317   6861]\n",
      " [  2362  11364]\n",
      " [  2806  15538]\n",
      " [  2532  36486]\n",
      " [ 18044   2046]\n",
      " [    18  15205]\n",
      " [  4155   1390]\n",
      " [ 14755   1382]\n",
      " [  5396  10646]\n",
      " [  5041   2856]\n",
      " [  2790   5265]\n",
      " [  7274   1499]\n",
      " [ 12680   4157]\n",
      " [ 20782   9212]\n",
      " [  4042   1563]\n",
      " [  1869    572]\n",
      " [  8656   2501]\n",
      " [ 11072   5615]\n",
      " [  2344   3828]\n",
      " [ 25962   3838]\n",
      " [   964   3316]\n",
      " [ 15603   3833]\n",
      " [  1838   2824]\n",
      " [  8635   3047]\n",
      " [ 18692    593]\n",
      " [  7363    585]\n",
      " [ 47493   3779]\n",
      " [ 22096   7041]\n",
      " [ 24929   2475]\n",
      " [ 18226   2914]\n",
      " [ 11210   5119]\n",
      " [  6202  10817]\n",
      " [  3062  13916]\n",
      " [  8885   1777]\n",
      " [ 13569    489]\n",
      " [ 15671   2406]\n",
      " [  8040   2070]\n",
      " [  3191   1799]\n",
      " [  6134  33586]\n",
      " [  6623   4740]\n",
      " [ 29526  16966]\n",
      " [ 10379   4748]\n",
      " [ 31614   1495]\n",
      " [ 11092   5249]\n",
      " [  8475   1883]\n",
      " [ 56083   2124]\n",
      " [ 53205   7336]\n",
      " [  9193   2157]\n",
      " [  7858   1094]\n",
      " [ 23257   1677]\n",
      " [  2153   6684]\n",
      " [  1073  15445]\n",
      " [  5909  13699]\n",
      " [   572  22182]\n",
      " [ 20893   2576]\n",
      " [ 11908  19847]\n",
      " [ 15218   1138]\n",
      " [  4720    975]\n",
      " [  2083   1563]\n",
      " [   514   6869]\n",
      " [ 36817   1493]\n",
      " [   894   1841]\n",
      " [   680    223]\n",
      " [ 27901   6964]\n",
      " [  9061    683]\n",
      " [ 11693   2543]\n",
      " [ 17360   9694]\n",
      " [  3366   2431]\n",
      " [ 12238   6235]\n",
      " [ 49063   4252]\n",
      " [ 25767   2013]\n",
      " [ 68951  12609]\n",
      " [ 40254   3600]\n",
      " [  7149   1242]\n",
      " [ 15354   2828]\n",
      " [ 16260   1296]\n",
      " [ 42786    471]\n",
      " [  2708   2642]\n",
      " [  6022   3261]\n",
      " [  2838   4329]\n",
      " [  3996  12469]\n",
      " [ 21273   6550]\n",
      " [  7588   5234]\n",
      " [ 19087   3643]\n",
      " [  8090   6986]\n",
      " [  6758   9965]\n",
      " [   444   2060]\n",
      " [ 16448   6360]\n",
      " [  5283  20399]\n",
      " [  2886   9785]\n",
      " [  2599  13829]\n",
      " [   161  24773]\n",
      " [   243   8852]\n",
      " [  6468  21570]\n",
      " [ 17327   2842]\n",
      " [  6987   3007]\n",
      " [   918  13567]\n",
      " [  7034   2405]\n",
      " [ 29635   8280]\n",
      " [  2137  19172]\n",
      " [  9784   2405]\n",
      " [ 10617   7647]\n",
      " [  1479  11924]\n",
      " [  7127   2201]\n",
      " [  1182   6114]\n",
      " [ 11800   3558]\n",
      " [  9759  17645]\n",
      " [  1774   2280]\n",
      " [  9155   5167]\n",
      " [ 15881   3315]\n",
      " [ 13360  11593]\n",
      " [ 25977   2464]\n",
      " [ 32717  13626]\n",
      " [  4414   1431]\n",
      " [   542   1664]\n",
      " [ 16933   3389]\n",
      " [  5113   4583]\n",
      " [  9790   5109]\n",
      " [ 11223  26839]\n",
      " [ 22321   1447]\n",
      " [  8565  67298]\n",
      " [ 16823   2743]\n",
      " [ 27082  10790]\n",
      " [ 13970   1330]\n",
      " [  9351   2611]\n",
      " [     3   7021]\n",
      " [  2617   5332]\n",
      " [   381   9670]\n",
      " [  2320  11238]\n",
      " [   255   5923]\n",
      " [  1689  26316]\n",
      " [  3043   1763]\n",
      " [  1198   8335]\n",
      " [  2771  15541]\n",
      " [ 27380  12311]\n",
      " [  3428   2028]\n",
      " [  5981  20521]\n",
      " [  3521   1997]\n",
      " [  1210  22294]\n",
      " [   608   1533]\n",
      " [   117  21203]\n",
      " [ 14039   2548]\n",
      " [   190   2012]\n",
      " [ 22686    218]\n",
      " [    37  22272]\n",
      " [   759   1660]\n",
      " [   796   2109]\n",
      " [ 19746   2006]\n",
      " [  4734    864]\n",
      " [  2121   2453]\n",
      " [  4627   4438]\n",
      " [  2615   1524]\n",
      " [  4692   8025]\n",
      " [  9561   1664]\n",
      " [  3477    534]\n",
      " [ 22335   2406]\n",
      " [  6211    683]\n",
      " [ 39679   4955]\n",
      " [ 20105   1939]\n",
      " [  3884   1641]\n",
      " [ 15076   7398]\n",
      " [  6338   1668]\n",
      " [  5841   1162]\n",
      " [  3136  13586]\n",
      " [ 38793   2648]\n",
      " [  3225   1902]\n",
      " [  4048  10391]\n",
      " [ 28257   2146]\n",
      " [ 17770   1617]\n",
      " [ 34454   8469]\n",
      " [  1821   3450]\n",
      " [ 10683  15400]\n",
      " [ 11635   1614]\n",
      " [  1206   2857]\n",
      " [ 20918   1573]\n",
      " [  9785   1172]\n",
      " [  9385   1422]\n",
      " [  3352   1328]\n",
      " [  2647   2313]\n",
      " [   518   3600]\n",
      " [ 23632   3842]\n",
      " [ 12377   3204]\n",
      " [  9602   1263]\n",
      " [  4515   9345]\n",
      " [ 11535   1428]\n",
      " [ 11442    582]\n",
      " [  9612    935]\n",
      " [  4446   1238]\n",
      " [ 27167   2128]\n",
      " [ 26539   5091]\n",
      " [ 25606   4604]\n",
      " [ 18073   3444]\n",
      " [  6884   1167]\n",
      " [ 25066   5026]\n",
      " [  7362  18683]\n",
      " [  8257   6407]\n",
      " [  8708   6100]\n",
      " [  6633   4563]\n",
      " [  2126   3281]\n",
      " [    97  12400]\n",
      " [  4983   6633]\n",
      " [  5969   3417]\n",
      " [  7842   8552]\n",
      " [  4389  10908]\n",
      " [  5065  11055]\n",
      " [   660  18622]\n",
      " [  8861   2223]\n",
      " [  4456  13227]\n",
      " [ 17063   9053]\n",
      " [ 26400   4172]\n",
      " [ 17565   4657]\n",
      " [ 16980  12232]\n",
      " [ 11243   2593]\n",
      " [ 13134  14316]\n",
      " [ 31012   5429]\n",
      " [  3047   4910]\n",
      " [  8607   3580]\n",
      " [  3097  16483]\n",
      " [  8533   5160]\n",
      " [ 21117   4754]\n",
      " [  1982   1493]\n",
      " [ 16731   7994]\n",
      " [ 29703  16027]\n",
      " [ 39228    764]\n",
      " [ 14531  30243]\n",
      " [ 10290   2232]\n",
      " [  2787   2510]]\n"
     ]
    }
   ],
   "source": [
    "print(X_1)"
   ]
  },
  {
   "cell_type": "code",
   "execution_count": 29,
   "id": "f08c292f",
   "metadata": {},
   "outputs": [
    {
     "data": {
      "image/png": "[encoded data removed]",
      "text/plain": [
       "<Figure size 640x480 with 1 Axes>"
      ]
     },
     "metadata": {},
     "output_type": "display_data"
    }
   ],
   "source": [
    "# import the library for hierarchical clustering\n",
    "import scipy.cluster.hierarchy as sch\n",
    "\n",
    "# Call the method dendrogram by using an object sch\n",
    "dendrogrm = sch.dendrogram(sch.linkage(X_1, method = 'ward')) # Single joins from the smallest \n",
    "plt.title('Dendrogram')\n",
    "plt.xlabel('Region')\n",
    "plt.ylabel('Channel')\n",
    "plt.show()"
   ]
  },
  {
   "cell_type": "code",
   "execution_count": 31,
   "id": "a7372de1",
   "metadata": {},
   "outputs": [
    {
     "data": {
      "image/png": "[encoded data removed]",
      "text/plain": [
       "<Figure size 640x480 with 1 Axes>"
      ]
     },
     "metadata": {},
     "output_type": "display_data"
    }
   ],
   "source": [
    "# Initialise an object 'hc' by calling a method 'AgglomerativeClustering'\n",
    "HC = AgglomerativeClustering(n_clusters = 3, affinity = 'euclidean', linkage = 'ward')\n",
    "\n",
    "# Train the model by calling a method 'fit_predict(X)'\n",
    "pred_hc = HC.fit_predict(X_1)\n",
    "\n",
    "# Visualising the clusters\n",
    "plt.scatter(X[pred_hc == 0, 0], X[pred_hc == 0, 1], s = 10, c = 'red', label = 'Region-1')\n",
    "plt.scatter(X[pred_hc == 1, 0], X[pred_hc == 1, 1], s = 10, c = 'blue', label = 'Region-2')\n",
    "plt.scatter(X[pred_hc == 2, 0], X[pred_hc == 2, 1], s = 10, c = 'green', label = 'Region-3')\n",
    "#plt.scatter(X[y_hc == 3, 0], X[y_hc == 3, 1], s = 50, c = 'cyan', label = 'Careless')\n",
    "#plt.scatter(X[y_hc == 4, 0], X[y_hc == 4, 1], s = 50, c = 'magenta', label = 'Sensible')\n",
    "plt.title('Clusters of customers')\n",
    "plt.xlabel('Channel')\n",
    "plt.ylabel('Region')\n",
    "plt.legend()\n",
    "plt.show()"
   ]
  },
  {
   "cell_type": "markdown",
   "id": "eafc0192",
   "metadata": {},
   "source": [
    "## References \n",
    "Practical Machine Learning for Data Analysis Using Python, Abdulhamit Subasi, ISBN: 978-0-12-821379-7, Jun 07, 2020, Elsevier Science & Technology."
   ]
  }
 ],
 "metadata": {
  "kernelspec": {
   "display_name": "Python 3 (ipykernel)",
   "language": "python",
   "name": "python3"
  },
  "language_info": {
   "codemirror_mode": {
    "name": "ipython",
    "version": 3
   },
   "file_extension": ".py",
   "mimetype": "text/x-python",
   "name": "python",
   "nbconvert_exporter": "python",
   "pygments_lexer": "ipython3",
   "version": "3.11.4"
  }
 },
 "nbformat": 4,
 "nbformat_minor": 5
}
